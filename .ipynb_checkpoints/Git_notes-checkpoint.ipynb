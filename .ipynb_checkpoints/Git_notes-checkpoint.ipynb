{
 "cells": [
  {
   "cell_type": "markdown",
   "metadata": {},
   "source": [
    "# Git for those who don't 'git it'\n",
    "I dabbled with git when I had to use it, but never really felt comfortable with it. For dabblers like me, the following description is a summary of when to use what commands.\n",
    "\n",
    "### How to commit\n",
    "Step 1: **cd** First, change to the directory on your computer containing the files you want to put under version control.  \n",
    ">  `cd  /Users/user/my_project/my_file` \n",
    "\n",
    "Step 2: **Initialize git** \n",
    "> `git init`<br> a skeleton repository will then be setup, which is a *.git* file that is prepared to start tracking your work as soon as you tell it to.\n",
    "\n",
    "Step 3: **Add and commit files**\n",
    "> `git add python_file.py`\n",
    "> `git add text_document.txt`\n",
    "> `git commit -m \"My functions and text added\"`<br><br>  Note that instead of specifying each file to be added individually, you can also add the entire directory using <br> \n",
    "> `git add .`\n",
    "> `git commit -m \"message describing the change\"`<br><br> The cool thing about the `git commit` command is that it gets git save new snapshot of this moment, while still keeping track of the old snapshots (hence, 'version control).\n",
    "\n",
    "### Starting with an online repository\n",
    "Rather than starting the version control process from files saved on your computer, perhaps you want to start with an online version of the repository instead. This could be the case if you created a repository from your github webpage or if you found someone else's code that you want to use/contribute to. To get a copy of an existing git repository, you just need its URL:\n",
    "> `git clone https://github.com/shannongross/code_support`\n",
    "\n",
    "The git clone *url* command creates a copy on your computer with a working verson of the repository, as well as initializing a *.git* skeleton repository inside of it for you. Note that you can add an optional statement at the end of this command, which will copy the online repository into a different directory on your machine (here named 'my_test_directory')\n",
    "> `git clone https://github.com/shannongross/code_support my_test_directory`\n",
    "\n",
    "\n",
    "### Handling remote repositories\n",
    "What remote servers have you set up already? Use this command to check:\n",
    "> `git remote`\n",
    "- if one of the responses is \"origin\" this is the nickname for the clone of the repository where you got it from. If you need to refresh your memory more, add \"-v\" to the end of this command which will give you the URL of the remotes\n",
    "> `git remote -v`\n",
    "- You can get even more information on a remote by inspecting it with\n",
    "> `git remote show origin`\n",
    "\n",
    "\n",
    "### How to add a new remote repository\n",
    "- The first way we already covered: **git clone**. Under the hood, this command makes an origin remote for you. When you clone a repository, the remote repository is added under the name \"origin\" automatically.\n",
    "- The second way is by spelling out the origin/nickname on your own with **git remote**. In the example below, I've called it 'my_remote_origin' which in reality is a pretty long name, but you get the idea. \n",
    "> git remote add my_remote_origin https://github.com/shannongross/code_support \n",
    "- Now you can reference this nickname from the commandline, rather than using the full URL. \n",
    "> git fetch my_remote_origin\n",
    "\n",
    "\n",
    "### Fetching and Pulling\n",
    "The **fetch** command grabs all the new data from the remote location that isn't in the local copy on your machine. The following command fetches any new work from the remote repository since you cloned it:\n",
    "* **git fetch origin** Note that this command only fetches the new work, but doesn't merge or change anything on your local computer. You have to use a separate command to do that when you're ready to merge. \n",
    "* **git pull** You can do the fetch + merge process in one step by using git pull instead.\n",
    "\n",
    "\n",
    "### Wrap up\n",
    "* **git status**  If you forget where you're at, can't remember latest additions\n",
    "\n",
    "* **git push**  To send local changes to remote server (so that you can see what you did online)\n",
    "\n",
    "* **git pull**  If someone else has added changes, you can pull them from the remote server to your computer. The `git pull` command causes any changes that have been made on remote server to be downloaded onto your computer\n",
    "\n",
    "* **Complication** What happens when you change something in the file locally while someone else makes a change to the remote verson? You'll have to tell git what to keep and what to discard by manually merging to fix the conflict. \n",
    "\t- Anything between 'HEAD' and '====' are all the things you changed. After that, it’s the stuff others changed\n",
    "\t- Atom will automatically highlight the conflict for you. Go ahead and delete everything you don’t want\n",
    "\n",
    "* **Git log**   Description of commit history<br>\n",
    "\n",
    "* **Git reset**   If you made some changes and then realize that you messed up<br>\n",
    "\t- `Git reset --hard <commit version>`\n",
    "\t- `Git reset -- hard origin/master` \n",
    "\t\t- If I cloned this from an online repository, this commit will reset it to that original file you downloaded"
   ]
  },
  {
   "cell_type": "markdown",
   "metadata": {},
   "source": [
    "<div class=\"alert alert-block alert-info\">\n",
    "<b>Tip:</b> A comprehensive explanation of tracking files in git can be found here https://git-scm.com/book/en/v2/Git-Basics-Recording-Changes-to-the-Repository. \n",
    "</div>"
   ]
  }
 ],
 "metadata": {
  "kernelspec": {
   "display_name": "Python [conda root]",
   "language": "python",
   "name": "conda-root-py"
  },
  "language_info": {
   "codemirror_mode": {
    "name": "ipython",
    "version": 3
   },
   "file_extension": ".py",
   "mimetype": "text/x-python",
   "name": "python",
   "nbconvert_exporter": "python",
   "pygments_lexer": "ipython3",
   "version": "3.6.1"
  }
 },
 "nbformat": 4,
 "nbformat_minor": 2
}
