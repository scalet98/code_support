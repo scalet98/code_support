{
 "cells": [
  {
   "cell_type": "markdown",
   "metadata": {},
   "source": [
    "# Vensim and EMA Workbench Setup Tips\n",
    "This notebook contains some brief explanations for users that are having some trouble with ema workbench setup, particuarly with connecting it to Vensim. As explained in the documentation (https://emaworkbench.readthedocs.io/en/latest/installation.html) ema installation is strightforward (pip install ema_workbench). Often, difficulty occurs when users want to use Vensim (which is 32-bit) and ema workbench in python (often run on 64-bit machines). \n",
    "\n",
    "### Why does 32 vs 64 bit matter? \n",
    "(Note: Written for Windows users)\n",
    "There are two major categories of computer processors: 32-bit and 64-bit. Older operating systems (e.g. Windows 98) all use 32-bit processors. After about the late 1990s/early 2000s, home computers had 64-bit processors. The \"-bit\" terminology just means that the computer works in data units that are either 32 or 64 bits wide. Computers with 64-bit processors can run more calculations per second and are also capable of running 32-bit versons of programs. The opposite is not true (a 32-bit operating system can't run a 64-bit program). Finally, 64-bit processors can come in multiple cores (for regular computers, generally 2, 4, 6, or 8 cores are possible) which allow for faster computations. \n",
    "\n",
    "    ### Vensim is 32-bit\n",
    "    Because of this, you also need a 32-bit version of Python.  More than likley, however, you'll already have 64-bit Python installed on your machine, which is generally offers you more speed and performance. So that leaves you with two options: downgrade to 32-bit Python, or set up virtual environments so that you can have multiple versions on your system. \n",
    "\n",
    "\n",
    "    ### How do I make virtual environments so I can use both 32 and 64 bit?\n",
    "    If you've got a 64-bit Windows machine, but want to be able to run 32-bit programs (like Vensim) on your machine - a virtual environment is an good way to do it. You can do this with conda environment - note that non-conda virtual environments are also possible but I find conda a bit easier.\n",
    "\n",
    "\n",
    "## What's the deal with Vensim DSS and DLL?\n",
    "### DSS\n",
    "The DSS version of Vensim gives you additional control over Vensim compared to the PLE version. It enables you to link to external functions or programming software through the Vensim DLL. By default, Vensim DSS installs DLL support files in the DLL subdirectory of vensim (usually in *C:\\Windows\\System32* or *C:\\Windows\\SysWOW64*), with the name **vendll32.dll**. Do not rename the Vensim DLL or it will not work. \n",
    "- Tip: \"Note that when installing Vensim DSS or the Vensim Model Reader as a standard user the Vensim DLL will be put in the same directory as the program, not in a system directory. This means you will need to move  it to a different directory or add the program directory to your system PATH in order to use the DLL.\"\n",
    "- From vensim documentation:  \"This mimics the behavior of the Vensim Model Reader and allows you to call the DLLs without specifying a full path.\"\n",
    "- Sample models and supporting files will be installed into a public folder or your home directory for standard users. \n",
    "\n",
    "\n",
    "### DLL\n",
    "A DLL is something that many programs have. The Vensim DLL is simply a separate program that allows Vensim to be called from other applications, such as Excel or ema_workbench. This allows you to extend the functionality of Vensim by making your SD model available for analysis by an outside program.\n",
    "- Tip: The Vensim DLL can only use packaged models (.vpm files)\n",
    "- Tip: the Vensim DLL only supports Windows\n",
    "- Note that you need to use a 32 bit development environment to use the 32 bit DLLs\n",
    "\n",
    "    ### *.dll* and *.lib*\n",
    "    The *.lib* extension is a static version and the *.dll* is the dynamic version of the program. They're close but not the same thing, so if you're getting 'Vensim DDL not found' errors you may need to hunt down the **vendll32.dll** program, since just the .lib version may not be sufficient. \n",
    "\n",
    "\n",
    "### More Vensim DLL Help\n",
    "https://emaworkbench.readthedocs.io/en/stable/ema_documentation/connectors/vensimDLLwrapper.html \n",
    "    \n",
    "    # About the Vensim DLL\n",
    "    https://www.vensim.com/documentation/index.html?25845.htm\n",
    "    https://www.vensim.com/documentation/index.html?dss_dll.htm\n",
    "    https://vensim.com/workbench/#multi-lib-external-function-manager \n"
   ]
  },
  {
   "cell_type": "code",
   "execution_count": null,
   "metadata": {
    "collapsed": true
   },
   "outputs": [],
   "source": []
  }
 ],
 "metadata": {
  "kernelspec": {
   "display_name": "Python [conda root]",
   "language": "python",
   "name": "conda-root-py"
  },
  "language_info": {
   "codemirror_mode": {
    "name": "ipython",
    "version": 3
   },
   "file_extension": ".py",
   "mimetype": "text/x-python",
   "name": "python",
   "nbconvert_exporter": "python",
   "pygments_lexer": "ipython3",
   "version": "3.6.1"
  }
 },
 "nbformat": 4,
 "nbformat_minor": 2
}
